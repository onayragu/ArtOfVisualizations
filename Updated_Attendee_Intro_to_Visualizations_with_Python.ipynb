{
  "nbformat": 4,
  "nbformat_minor": 0,
  "metadata": {
    "colab": {
      "name": "Updated Attendee Intro to Visualizations with Python.ipynb",
      "provenance": [],
      "collapsed_sections": [],
      "include_colab_link": true
    },
    "kernelspec": {
      "name": "python3",
      "display_name": "Python 3"
    }
  },
  "cells": [
    {
      "cell_type": "markdown",
      "metadata": {
        "id": "view-in-github",
        "colab_type": "text"
      },
      "source": [
        "<a href=\"https://colab.research.google.com/github/onayragu/ArtOfVisualizations/blob/master/Updated_Attendee_Intro_to_Visualizations_with_Python.ipynb\" target=\"_parent\"><img src=\"https://colab.research.google.com/assets/colab-badge.svg\" alt=\"Open In Colab\"/></a>"
      ]
    },
    {
      "cell_type": "markdown",
      "metadata": {
        "id": "M0BvCh1RPm-g",
        "colab_type": "text"
      },
      "source": [
        "# What makes buying a home in California so expensive?\n",
        "- Throughout this notebook we will seek to answer that question using exploratory data analysis techniques and visualizations in Python.\n",
        "- Anytime you see a line surrounded by triple asterisks, `***LIKE THIS***`, that is a line of code that you will need to replace or edit.\n",
        "- Have fun and good luck coding!"
      ]
    },
    {
      "cell_type": "markdown",
      "metadata": {
        "id": "puZtFgoHmnhy",
        "colab_type": "text"
      },
      "source": [
        "> To execute a line or block of code, simply click the \"Play\" button on the left side or use the keyboard shortcut \"Shift + Enter\"\n",
        "> When that code block has actually been executed, the blank brackets will change to have a number inside of them."
      ]
    },
    {
      "cell_type": "code",
      "metadata": {
        "id": "MVvgG86tmpy-",
        "colab_type": "code",
        "colab": {}
      },
      "source": [
        "x = ***EDIT THIS CODE***\n",
        "print(x)"
      ],
      "execution_count": null,
      "outputs": []
    },
    {
      "cell_type": "markdown",
      "metadata": {
        "id": "cpwsxUdOthZh",
        "colab_type": "text"
      },
      "source": [
        "___\n",
        "### Import the California Housing dataset.\n",
        "\n",
        "Keep in mind:\n",
        "*   One block of homes per row\n",
        "*   Values are from 1990, not 2019!\n",
        "\n",
        "\n"
      ]
    },
    {
      "cell_type": "code",
      "metadata": {
        "id": "fuynGZ8jDsca",
        "colab_type": "code",
        "colab": {}
      },
      "source": [
        "# Libraries we need\n",
        "import os\n",
        "import requests\n",
        "\n",
        "def reqFile(url, file_path):\n",
        "    # Retrieve the library xlsx file and save it in the datasets path\n",
        "    resp = requests.get(url)\n",
        "    output = open(file_path, 'wb')\n",
        "    output.write(resp.content)\n",
        "    output.close()\n"
      ],
      "execution_count": null,
      "outputs": []
    },
    {
      "cell_type": "code",
      "metadata": {
        "id": "uO3whRJ47eK2",
        "colab_type": "code",
        "colab": {}
      },
      "source": [
        "# Source of data\n",
        "url = \"https://github.com/ageron/handson-ml/raw/master/datasets/housing/housing.csv\"\n",
        "\n",
        "# Define a name for the file to be downloaded\n",
        "file_name = 'housing.csv'\n",
        "\n",
        "# Get the current working directory to get the full path to 'file_name'\n",
        "file_path = os.path.join(os.getcwd(), file_name)\n",
        "\n",
        "# Request the file\n",
        "reqFile(url, file_path)"
      ],
      "execution_count": null,
      "outputs": []
    },
    {
      "cell_type": "code",
      "metadata": {
        "id": "jp3UoyGc7kJU",
        "colab_type": "code",
        "colab": {}
      },
      "source": [
        "import pandas as pd\n",
        "\n",
        "housing = pd.read_csv(file_path)"
      ],
      "execution_count": null,
      "outputs": []
    },
    {
      "cell_type": "markdown",
      "metadata": {
        "id": "87nxMLuvOC9b",
        "colab_type": "text"
      },
      "source": [
        "### Quick EDA"
      ]
    },
    {
      "cell_type": "markdown",
      "metadata": {
        "id": "GS2QQahGtov2",
        "colab_type": "text"
      },
      "source": [
        "Use the `.head()` function to look at the first 5 rows of data entries.\n"
      ]
    },
    {
      "cell_type": "code",
      "metadata": {
        "id": "jVKxeUukpGJV",
        "colab_type": "code",
        "colab": {}
      },
      "source": [
        "housing.head(5)"
      ],
      "execution_count": null,
      "outputs": []
    },
    {
      "cell_type": "markdown",
      "metadata": {
        "id": "Lid6B45VOU5b",
        "colab_type": "text"
      },
      "source": [
        "Use `.shape` to return the size of your data set (rows, columns)."
      ]
    },
    {
      "cell_type": "code",
      "metadata": {
        "id": "y6y4LGkdutO8",
        "colab_type": "code",
        "colab": {}
      },
      "source": [
        "housing.shape"
      ],
      "execution_count": null,
      "outputs": []
    },
    {
      "cell_type": "markdown",
      "metadata": {
        "id": "NY29tBG8tuQH",
        "colab_type": "text"
      },
      "source": [
        "Use the `.describe()` function to see summary statisitcs on the numerical columns in the data set."
      ]
    },
    {
      "cell_type": "code",
      "metadata": {
        "id": "q3n9ZDhjyCW_",
        "colab_type": "code",
        "colab": {}
      },
      "source": [
        "housing.describe()"
      ],
      "execution_count": null,
      "outputs": []
    },
    {
      "cell_type": "markdown",
      "metadata": {
        "id": "Tj-_bANmO5bf",
        "colab_type": "text"
      },
      "source": [
        "___\n",
        "### Let's start using visualizations!"
      ]
    },
    {
      "cell_type": "markdown",
      "metadata": {
        "id": "arNZm5s_t0yl",
        "colab_type": "text"
      },
      "source": [
        "# Import packages that we need to explore and visualize our data."
      ]
    },
    {
      "cell_type": "code",
      "metadata": {
        "id": "he2mDy6nGeT3",
        "colab_type": "code",
        "colab": {}
      },
      "source": [
        "# Import the appropriate packages:\n",
        "***REVISE THIS LINE WITH CODE***\n",
        "***REVISE THIS LINE WITH CODE***\n",
        "\n",
        "# Set the default style to consider colorblind readers:\n",
        "plt.style.use('seaborn-colorblind')"
      ],
      "execution_count": null,
      "outputs": []
    },
    {
      "cell_type": "markdown",
      "metadata": {
        "id": "J2XHM79l6SMp",
        "colab_type": "text"
      },
      "source": [
        "#### Visualizations for Ourselves\n",
        "Let's start by plotting some basic graphs to answer questions about data.\n",
        "We don't need to worry too much about making these aesthetically pleasing."
      ]
    },
    {
      "cell_type": "markdown",
      "metadata": {
        "id": "IbtYvaMqQeE3",
        "colab_type": "text"
      },
      "source": [
        "- What is the distribution of house values in our data set?\n",
        "> To answer this, we'll use a **histogram**:"
      ]
    },
    {
      "cell_type": "code",
      "metadata": {
        "id": "vxyYpwL6o0v9",
        "colab_type": "code",
        "colab": {}
      },
      "source": [
        "# Create histogram of median house values below:\n",
        "# (the semicolon at the end suppresses the visualization object report)\n",
        "***REVISE THIS LINE WITH CODE***"
      ],
      "execution_count": null,
      "outputs": []
    },
    {
      "cell_type": "markdown",
      "metadata": {
        "id": "QbscYqgoUtQ_",
        "colab_type": "text"
      },
      "source": [
        "- I know I said we don't need to worry _too much_ about aesthetics, but if you saw the above histogram without the associated code, you wouldn't know what it's conveying.\n",
        "> Let's add some labels to fix that:"
      ]
    },
    {
      "cell_type": "code",
      "metadata": {
        "id": "aoPJq1j8VBGI",
        "colab_type": "code",
        "colab": {}
      },
      "source": [
        "# First we create our plot:\n",
        "plt.hist(housing['median_house_value'])\n",
        "\n",
        "# Then we edit aspects of our plot object:\n",
        "plt.title(\"***REVISE THIS STRING***\")\n",
        "plt.xlabel(\"***REVISE THIS STRING***\")\n",
        "plt.ylabel(\"***REVISE THIS STRING***\")"
      ],
      "execution_count": null,
      "outputs": []
    },
    {
      "cell_type": "markdown",
      "metadata": {
        "id": "A_viMq-m6c4u",
        "colab_type": "text"
      },
      "source": [
        "- What about using our `ocean_proximity` column to quantify our house locations? How close to (or far from) the ocean are all of our houses located?\n",
        "> We'll use `value_counts` and a **bar chart** to answer this:"
      ]
    },
    {
      "cell_type": "code",
      "metadata": {
        "id": "iVhyqWEDvKBP",
        "colab_type": "code",
        "colab": {}
      },
      "source": [
        "# Generating the values we are using for the following plot:\n",
        "housing['ocean_proximity'].value_counts()"
      ],
      "execution_count": null,
      "outputs": []
    },
    {
      "cell_type": "code",
      "metadata": {
        "id": "h9QWhohxpSfU",
        "colab_type": "code",
        "colab": {}
      },
      "source": [
        "# Bar chart for those values here:\n",
        "housing['ocean_proximity'].value_counts().plot(kind = '***REVISE THIS LINE WITH CODE***')\n",
        "plt.title(\"***REVISE THIS STRING***\")\n",
        "plt.xlabel(\"***REVISE THIS STRING***\")\n",
        "plt.ylabel(\"***REVISE THIS STRING***\");"
      ],
      "execution_count": null,
      "outputs": []
    },
    {
      "cell_type": "markdown",
      "metadata": {
        "id": "XAP89_uftfyg",
        "colab_type": "text"
      },
      "source": [
        "- While plotting the value counts for `ocean_proximity` is nice for some initial EDA, it's not necessarily helping us answer more about our big overall question. Maybe we continue to build off of it and ask the following: what is the average median house value per each category in `ocean_proximity`?\n",
        "> We'll use pandas `groupby` and a **bar chart** to answer this:"
      ]
    },
    {
      "cell_type": "code",
      "metadata": {
        "id": "sW4pBjbZnDk_",
        "colab_type": "code",
        "colab": {}
      },
      "source": [
        "# Generating the values for the following plot using groupby:\n",
        "housing.groupby('ocean_proximity')['median_house_value'].mean().sort_values(ascending=False)"
      ],
      "execution_count": null,
      "outputs": []
    },
    {
      "cell_type": "code",
      "metadata": {
        "id": "2C3nEiKCrvZF",
        "colab_type": "code",
        "colab": {}
      },
      "source": [
        "# Plotting those values here with bar chart:\n",
        "housing.groupby('ocean_proximity')['median_house_value'].mean().sort_values(ascending=False).plot(kind = '***REVISE THIS LINE WITH CODE***',\n",
        "                                                                                                  color = '***REVISE THIS LINE WITH CODE***')\n",
        "plt.title(\"***REVISE THIS STRING***\")\n",
        "plt.xlabel(\"***REVISE THIS STRING***\")\n",
        "plt.ylabel(\"***REVISE THIS STRING***\");"
      ],
      "execution_count": null,
      "outputs": []
    },
    {
      "cell_type": "markdown",
      "metadata": {
        "id": "izkhcTfo11GG",
        "colab_type": "text"
      },
      "source": [
        "> _From this chart, it seems like houses located further inland are associated with a decrease in average median house value._"
      ]
    },
    {
      "cell_type": "code",
      "metadata": {
        "id": "76WnDtavWEvI",
        "colab_type": "code",
        "colab": {}
      },
      "source": [
        "# CHALLENGE 1\n",
        "# Use groupby and create another bar chart to show how a different continuous variable is related to ocean proximity:\n",
        "# Don't forget to replace any relevant labels and titles!\n",
        "***REVISE THIS LINE WITH CODE***"
      ],
      "execution_count": null,
      "outputs": []
    },
    {
      "cell_type": "markdown",
      "metadata": {
        "id": "P1i1ZlpF8w_G",
        "colab_type": "text"
      },
      "source": [
        "- Maybe we want to know if other aspects of our data are related in any meaningful way.\n",
        "\n",
        "> - We might suspect that more income could likely mean a nicer home, so we could ask the following: are `median_income` and `median_house_value` positively correlated?\n",
        ">> A **scatter plot** will help illuminate that for us:\n"
      ]
    },
    {
      "cell_type": "code",
      "metadata": {
        "id": "VM-9TGpBpD8c",
        "colab_type": "code",
        "colab": {}
      },
      "source": [
        "# Median income vs house value scatter here\n",
        "***REVISE THIS LINE WITH CODE***"
      ],
      "execution_count": null,
      "outputs": []
    },
    {
      "cell_type": "markdown",
      "metadata": {
        "id": "BQNCZhB89AM2",
        "colab_type": "text"
      },
      "source": [
        "> _It looks like there is a positive correlation between income and house value._"
      ]
    },
    {
      "cell_type": "code",
      "metadata": {
        "id": "nBSsTVvYdSbG",
        "colab_type": "code",
        "colab": {}
      },
      "source": [
        "# CHALLENGE 2\n",
        "# Use a scatter plot to show a different relationship between two continuous variables:\n",
        "# Don't forget to replace any relevant labels and titles!\n",
        "***REVISE THIS LINE WITH CODE***"
      ],
      "execution_count": null,
      "outputs": []
    },
    {
      "cell_type": "markdown",
      "metadata": {
        "id": "uBiB9EWxdbJm",
        "colab_type": "text"
      },
      "source": [
        "- What if we don't want to look at individual scatterplots one at a time? Is there a way to look at multiple correlations at once?\n",
        "> Yes! Pandas has a very helpful `.corr()` function that generates correlation values for all continuous variables with each other."
      ]
    },
    {
      "cell_type": "code",
      "metadata": {
        "id": "4xvbwZ5K9HgO",
        "colab_type": "code",
        "colab": {}
      },
      "source": [
        "# Generating the values to visualize:\n",
        "# (You can also check for how strong the correlation was for your scatter plot here!)\n",
        "housing.corr()"
      ],
      "execution_count": null,
      "outputs": []
    },
    {
      "cell_type": "markdown",
      "metadata": {
        "id": "AAStB74Pm8V1",
        "colab_type": "text"
      },
      "source": [
        "> We can visualize the results of this correlation matrix using Seaborn's **heatmap** visualization:"
      ]
    },
    {
      "cell_type": "code",
      "metadata": {
        "id": "fYCxq9nheEhR",
        "colab_type": "code",
        "colab": {}
      },
      "source": [
        "# Visualizing our correlation matrix with a heatmap:\n",
        "plt.figure(figsize=(8,8))\n",
        "sns.heatmap(housing.corr(),\n",
        "            linewidths = 0.25,\n",
        "            square = True,\n",
        "            cmap = 'seismic',\n",
        "            linecolor = 'black',\n",
        "            annot= True);"
      ],
      "execution_count": null,
      "outputs": []
    },
    {
      "cell_type": "markdown",
      "metadata": {
        "id": "HQXQ8Rmtkhe5",
        "colab_type": "text"
      },
      "source": [
        "> _We see strong positive correlations in dark red, strong negative correlations in dark blue, and weak associations approach the washed out white._"
      ]
    },
    {
      "cell_type": "markdown",
      "metadata": {
        "id": "vHoY7Zjs2RRs",
        "colab_type": "text"
      },
      "source": [
        "___\n",
        "### Bringing It All Together\n",
        "\n",
        "We've answered a lot of questions about our data, and have generated some very useful visualizations to help answer those questions. However, both aesthetically and functionally, the ones that we've created have fallen more into the \"visualizations for ourselves\" bucket.\n",
        "\n",
        "Now that we have a deeper understanding of our dataset, let's switch gears and create one final visualization that is presentation-ready and aims to answer our big question that we started with: **What makes buying a home in California expensive?** We will want this one to display multiple aspects of our dataset at once and embody the use of visualization to tell a story about our data."
      ]
    },
    {
      "cell_type": "markdown",
      "metadata": {
        "id": "45HpPGst3puO",
        "colab_type": "text"
      },
      "source": [
        "- Since we have `longitude` and `latitude` data, we can use a **scatter plot** to create a map of our data and then continually experiment with new parameters to get what we want:\n",
        "> First change the size of the figure and then we'll set the `alpha` (or transparency) of our points to 40%."
      ]
    },
    {
      "cell_type": "code",
      "metadata": {
        "id": "iVM7vNBb4DS9",
        "colab_type": "code",
        "colab": {}
      },
      "source": [
        "# Building out our final viz:\n",
        "***REVISE THIS LINE WITH CODE***"
      ],
      "execution_count": null,
      "outputs": []
    },
    {
      "cell_type": "markdown",
      "metadata": {
        "id": "WspD2MDP5SQP",
        "colab_type": "text"
      },
      "source": [
        "- We know that we'll want to incorporate median income information into our viz, so let's do that here:\n",
        "> Do this by changing the `s` (size) of each point proportional to the median income of the associated block and then adding a label so our audience knows what it's conveying."
      ]
    },
    {
      "cell_type": "code",
      "metadata": {
        "id": "Vxxv7Fad5RS5",
        "colab_type": "code",
        "colab": {}
      },
      "source": [
        "# Changing our point size:\n",
        "\n",
        "housing.plot(kind = \"scatter\",\n",
        "             x = 'longitude',\n",
        "             y = 'latitude',\n",
        "             figsize = (7,7),\n",
        "             alpha = 0.4,\n",
        "             s = ***REVISE THIS LINE WITH CODE***,\n",
        "             label = ***REVISE THIS LINE WITH CODE***);"
      ],
      "execution_count": null,
      "outputs": []
    },
    {
      "cell_type": "markdown",
      "metadata": {
        "id": "jnK0Aa0c6TMM",
        "colab_type": "text"
      },
      "source": [
        "- In our last piece of data artistry, we'll incorporate the actual median house values:\n",
        "> Do this by changing the `c` (color) of each point proportional to the median house value of the associated block along the `cmap` (colormap) spectrum of \"jet\" and then adding a `colorbar` so our audience knows the range of those values. \n",
        "\n",
        "Now we have a _BEAUTIFUL_ piece of storytelling with data."
      ]
    },
    {
      "cell_type": "code",
      "metadata": {
        "id": "1oee0K-iFnoE",
        "colab_type": "code",
        "colab": {}
      },
      "source": [
        "# Adding values using color:\n",
        "\n",
        "housing.plot(kind = \"scatter\",\n",
        "             x = 'longitude',\n",
        "             y = 'latitude',\n",
        "             figsize = (7,7),\n",
        "             alpha = 0.4,\n",
        "             s = housing['median_income']*1.5,\n",
        "             label = 'median income',\n",
        "             c = ***REVISE THIS LINE WITH CODE***,\n",
        "             cmap = ***REVISE THIS LINE WITH CODE***,\n",
        "             colorbar = ***REVISE THIS LINE WITH CODE***);"
      ],
      "execution_count": null,
      "outputs": []
    },
    {
      "cell_type": "markdown",
      "metadata": {
        "id": "LoMT_QMx7v31",
        "colab_type": "text"
      },
      "source": [
        "#### To wrap it all up, we now have a plot that is showing that housing prices increase in areas of more concentrated wealth that are also closest to the coast and high density urban areas like San Francisco and Los Angeles."
      ]
    },
    {
      "cell_type": "markdown",
      "metadata": {
        "id": "Us6B5ypvc2R6",
        "colab_type": "text"
      },
      "source": [
        "#### Challenge\n",
        "For added practice and to improve this last visualization, think about what other factors you could plot to continue to answer the big question, \"What makes buying a home in California so expensive?\".  \n",
        "\n",
        "Suggestions of things to change/add:\n",
        "- Change the column used to show the size (s) of the points (you might have to multiply or divide by a different value, and make sure to change the label too)\n",
        "- Change the [color map](https://matplotlib.org/tutorials/colors/colormaps.html) to better convey the information\n",
        "- Change the figure size (which number corresponds to width?)\n",
        "- Change the alpha (values between 0 and 1)\n",
        "- Look through the [matplotlib scatter](https://matplotlib.org/api/_as_gen/matplotlib.pyplot.scatter.html) docs to see what other parameters you can add/change to improve the plot (can you remove the axes?)\n",
        "\n",
        "# Keep Learning with Thinkful\n",
        "If you enjoyed today's session and want to take a deeper dive into many of the topics that we covered today like Pandas, SQL, predictive modeling, visualizing your data, and so much more, we'd love to have you join us again!\n",
        "- Check out more of our webinars at [Thinkful Webinars](https://www.thinkful.com/webinars/)\n",
        "- Learn more about the [Data Science Flex Course](https://www.thinkful.com/bootcamp/data-science/flexible/)"
      ]
    }
  ]
}